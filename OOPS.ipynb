{
  "nbformat": 4,
  "nbformat_minor": 0,
  "metadata": {
    "colab": {
      "provenance": [],
      "authorship_tag": "ABX9TyM9KoW0fE+lfpY3mk2Saa/t",
      "include_colab_link": true
    },
    "kernelspec": {
      "name": "python3",
      "display_name": "Python 3"
    },
    "language_info": {
      "name": "python"
    }
  },
  "cells": [
    {
      "cell_type": "markdown",
      "metadata": {
        "id": "view-in-github",
        "colab_type": "text"
      },
      "source": [
        "<a href=\"https://colab.research.google.com/github/gouravkumargd79/OOPS/blob/main/OOPS.ipynb\" target=\"_parent\"><img src=\"https://colab.research.google.com/assets/colab-badge.svg\" alt=\"Open In Colab\"/></a>"
      ]
    },
    {
      "cell_type": "code",
      "execution_count": null,
      "metadata": {
        "id": "Ra6-HhCGE_S8"
      },
      "outputs": [],
      "source": [
        "# Q1. What are the five key concepts of Object-Oriented Programming (OOP)?\n",
        "\n",
        "''' Encapsulation: The bundling of data (attributes) and methods (functions) that operate on that data into a single unit, typically a class. It also involves restricting access to certain details of an object, which is achieved through access modifiers (private, protected, public).\n",
        "\n",
        "Abstraction: Hiding the complexity of the system and exposing only the necessary parts. This allows users to interact with the system at a high level while the underlying details are kept hidden.\n",
        "\n",
        "Inheritance: The mechanism by which one class can inherit attributes and methods from another class, allowing code reuse and the creation of hierarchical relationships.\n",
        "\n",
        "Polymorphism: The ability of different classes to respond to the same method in different ways. It allows the same interface to be used for different data types.\n",
        "\n",
        "Class: A blueprint for creating objects, which defines properties (attributes) and methods (functions). Objects are instances of classes.'''"
      ]
    },
    {
      "cell_type": "code",
      "source": [
        "# Q2. Write a Python class for a `Car` with attributes for `make`, `model`, and `year`. Include a method to display the car's information.\n",
        "\n",
        "class Car:\n",
        "    def __init__(self, make, model, year):\n",
        "        self.make = make\n",
        "        self.model = model\n",
        "        self.year = year\n",
        "\n",
        "    def display_info(self):\n",
        "        print(f\"Car Make: {self.make}\")\n",
        "        print(f\"Car Model: {self.model}\")\n",
        "        print(f\"Car Year: {self.year}\")\n",
        "\n",
        "# Example Usage\n",
        "my_car = Car(\"Toyota\", \"Camry\", 2020)\n",
        "my_car.display_info()"
      ],
      "metadata": {
        "id": "b5r1grJbFQ3f"
      },
      "execution_count": null,
      "outputs": []
    },
    {
      "cell_type": "code",
      "source": [
        "# Q3. Explain the difference between instance methods and class methods. Provide an example of each.\n",
        "\n",
        "# Instance Method: A method that operates on an instance of the class. It can access and modify the instance attributes (using self).\n",
        "\n",
        "class MyClass:\n",
        "    def instance_method(self):\n",
        "        print(\"This is an instance method.\")\n",
        "\n",
        "obj = MyClass()\n",
        "obj.instance_method()\n",
        "\n",
        "# Class Method: A method that operates on the class itself, not on instances. It is defined using the @classmethod decorator and takes cls (class reference) as its first parameter.\n",
        "\n",
        "class MyClass:\n",
        "    @classmethod\n",
        "    def class_method(cls):\n",
        "        print(\"This is a class method.\")\n",
        "\n",
        "MyClass.class_method()"
      ],
      "metadata": {
        "id": "vr5U9uPMFjRk"
      },
      "execution_count": null,
      "outputs": []
    },
    {
      "cell_type": "code",
      "source": [
        "# Q4. How does Python implement method overloading? Give an example.\n",
        "\n",
        "# Python does not support traditional method overloading like other languages. However, we can achieve similar functionality by using default arguments or variable-length argument lists (*args, **kwargs).\n",
        "\n",
        "class Calculator:\n",
        "    def add(self, *args):\n",
        "        return sum(args)\n",
        "\n",
        "calc = Calculator()\n",
        "print(calc.add(1, 2))\n",
        "print(calc.add(1, 2, 3, 4))"
      ],
      "metadata": {
        "id": "cYARIOxVGGN5"
      },
      "execution_count": null,
      "outputs": []
    },
    {
      "cell_type": "code",
      "source": [
        "# Q5. What are the three types of access modifiers in Python? How are they denoted?\n",
        "\n",
        "''' Public: Attributes and methods are accessible from anywhere (no leading underscore).\n",
        "Protected: Denoted by a single underscore _, indicating that the attribute or method is intended for internal use (i.e., should not be accessed directly).\n",
        "Private: Denoted by a double underscore __, which makes the attribute or method name \"mangled\" and less accessible directly.'''\n",
        "\n",
        "class MyClass:\n",
        "    def __init__(self):\n",
        "        self.public_var = 1\n",
        "        self._protected_var = 2\n",
        "        self.__private_var = 3"
      ],
      "metadata": {
        "id": "qXfnmKQaGvEQ"
      },
      "execution_count": null,
      "outputs": []
    },
    {
      "cell_type": "code",
      "source": [
        "# Q6. Describe the five types of inheritance in Python. Provide a simple example of multiple inheritance.\n",
        "\n",
        "'''Single Inheritance: A class inherits from one parent class.\n",
        "Multiple Inheritance: A class inherits from more than one parent class.\n",
        "Multilevel Inheritance: A class inherits from a class that is already inherited from another class.\n",
        "Hierarchical Inheritance: Multiple classes inherit from a single parent class.\n",
        "Hybrid Inheritance: A combination of more than one type of inheritance.'''\n",
        "\n",
        "class Engine:\n",
        "    def start_engine(self):\n",
        "        print(\"Engine started.\")\n",
        "\n",
        "class Car(Engine):\n",
        "    def drive(self):\n",
        "        print(\"Car is driving.\")\n",
        "\n",
        "class ElectricCar(Engine):\n",
        "    def charge_battery(self):\n",
        "        print(\"Battery is charging.\")\n",
        "\n",
        "class HybridCar(Car, ElectricCar):\n",
        "    def drive_electric(self):\n",
        "        print(\"Driving on electric power.\")\n",
        "\n",
        "hybrid = HybridCar()\n",
        "hybrid.start_engine()\n",
        "hybrid.drive()\n",
        "hybrid.charge_battery()\n",
        "hybrid.drive_electric()"
      ],
      "metadata": {
        "id": "SQHVK68bHDpA"
      },
      "execution_count": null,
      "outputs": []
    },
    {
      "cell_type": "code",
      "source": [
        "# Q7. What is the Method Resolution Order (MRO) in Python? How can you retrieve it programmatically?\n",
        "\n",
        "'''MRO defines the order in which base classes are searched when a method is called. In Python, the mro() method can be used to retrieve the MRO.'''\n",
        "\n",
        "class A:\n",
        "    pass\n",
        "\n",
        "class B(A):\n",
        "    pass\n",
        "\n",
        "class C(A):\n",
        "    pass\n",
        "\n",
        "class D(B, C):\n",
        "    pass\n",
        "\n",
        "print(D.mro())"
      ],
      "metadata": {
        "id": "7a7nZ6RpHQzO"
      },
      "execution_count": null,
      "outputs": []
    },
    {
      "cell_type": "code",
      "source": [
        "# Q8. Create an abstract base class `Shape` with an abstract method `area()`. Then create two subclasses `Circle` and `Rectangle` that implement the `area()` method.\n",
        "\n",
        "from abc import ABC, abstractmethod\n",
        "import math\n",
        "\n",
        "class Shape(ABC):\n",
        "    @abstractmethod\n",
        "    def area(self):\n",
        "        pass\n",
        "\n",
        "class Circle(Shape):\n",
        "    def __init__(self, radius):\n",
        "        self.radius = radius\n",
        "\n",
        "    def area(self):\n",
        "        return math.pi * (self.radius ** 2)\n",
        "\n",
        "class Rectangle(Shape):\n",
        "    def __init__(self, width, height):\n",
        "        self.width = width\n",
        "        self.height = height\n",
        "\n",
        "    def area(self):\n",
        "        return self.width * self.height\n",
        "\n",
        "# Example Usage\n",
        "circle = Circle(5)\n",
        "rectangle = Rectangle(4, 6)\n",
        "print(f\"Circle Area: {circle.area()}\")\n",
        "print(f\"Rectangle Area: {rectangle.area()}\")"
      ],
      "metadata": {
        "id": "y3v1Kgn5H3EZ"
      },
      "execution_count": null,
      "outputs": []
    },
    {
      "cell_type": "code",
      "source": [
        "# Q9. Demonstrate polymorphism by creating a function that can work with different shape objects to calculate and print their areas.\n",
        "\n",
        "def print_area(shape):\n",
        "    print(f\"Area: {shape.area()}\")\n",
        "\n",
        "shapes = [Circle(3), Rectangle(4, 5)]\n",
        "for shape in shapes:\n",
        "    print_area(shape)"
      ],
      "metadata": {
        "id": "BZUGEYTfIHD_"
      },
      "execution_count": null,
      "outputs": []
    },
    {
      "cell_type": "code",
      "source": [
        "# Q10. Implement encapsulation in a `BankAccount` class with private attributes for `balance` and `account_number`. Include methods for deposit, withdrawal, and balance inquiry.\n",
        "\n",
        "class BankAccount:\n",
        "    def __init__(self, account_number, balance=0):\n",
        "        self.__account_number = account_number  # Private attribute\n",
        "        self.__balance = balance  # Private attribute\n",
        "\n",
        "    def deposit(self, amount):\n",
        "        if amount > 0:\n",
        "            self.__balance += amount\n",
        "        else:\n",
        "            print(\"Deposit amount must be positive.\")\n",
        "\n",
        "    def withdraw(self, amount):\n",
        "        if amount <= self.__balance:\n",
        "            self.__balance -= amount\n",
        "        else:\n",
        "            print(\"Insufficient balance.\")\n",
        "\n",
        "    def get_balance(self):\n",
        "        return self.__balance\n",
        "\n",
        "    def get_account_number(self):\n",
        "        return self.__account_number\n",
        "\n",
        "# Example Usage\n",
        "account = BankAccount(\"12345\", 1000)\n",
        "account.deposit(500)\n",
        "account.withdraw(200)\n",
        "print(f\"Balance: {account.get_balance()}\")"
      ],
      "metadata": {
        "id": "-VJeeQnYIQUw"
      },
      "execution_count": null,
      "outputs": []
    },
    {
      "cell_type": "code",
      "source": [
        "# Q11. Write a class that overrides the `__str__` and `__add__` magic methods. What will these methods allow you to do?\n",
        "\n",
        "class MyNumber:\n",
        "    def __init__(self, value):\n",
        "        self.value = value\n",
        "\n",
        "    def __str__(self):\n",
        "        return f\"MyNumber({self.value})\"\n",
        "\n",
        "    def __add__(self, other):\n",
        "        return MyNumber(self.value + other.value)\n",
        "\n",
        "num1 = MyNumber(5)\n",
        "num2 = MyNumber(3)\n",
        "print(num1)  # Output: MyNumber(5)\n",
        "num3 = num1 + num2\n",
        "print(num3)  # Output: MyNumber(8)"
      ],
      "metadata": {
        "id": "10MtsPTrIkeR"
      },
      "execution_count": null,
      "outputs": []
    },
    {
      "cell_type": "code",
      "source": [
        "# Q12. Create a decorator that measures and prints the execution time of a function.\n",
        "\n",
        "import time\n",
        "\n",
        "def execution_time(func):\n",
        "    def wrapper(*args, **kwargs):\n",
        "        start = time.time()\n",
        "        result = func(*args, **kwargs)\n",
        "        end = time.time()\n",
        "        print(f\"Execution time: {end - start} seconds\")\n",
        "        return result\n",
        "    return wrapper\n",
        "\n",
        "@execution_time\n",
        "def slow_function():\n",
        "    time.sleep(2)\n",
        "\n",
        "slow_function()"
      ],
      "metadata": {
        "id": "jh-yjWtxIub7"
      },
      "execution_count": null,
      "outputs": []
    },
    {
      "cell_type": "code",
      "source": [
        "# Q13. Explain the concept of the Diamond Problem in multiple inheritance. How does Python resolve it?\n",
        "\n",
        "# The Diamond Problem occurs when a class inherits from two classes that have a common ancestor, which can lead to ambiguity in method resolution. Python resolves it using the C3 Linearization algorithm.\n",
        "\n",
        "class A:\n",
        "    def method(self):\n",
        "        print(\"Method in A\")\n",
        "\n",
        "class B(A):\n",
        "    def method(self):\n",
        "        print(\"Method in B\")\n",
        "\n",
        "class C(A):\n",
        "    def method(self):\n",
        "        print(\"Method in C\")\n",
        "\n",
        "class D(B, C):\n",
        "    pass\n",
        "\n",
        "d = D()\n",
        "d.method()"
      ],
      "metadata": {
        "id": "ewxvRN8HI2II"
      },
      "execution_count": null,
      "outputs": []
    },
    {
      "cell_type": "code",
      "source": [
        "# Q14. Write a class method that keeps track of the number of instances created from a class.\n",
        "\n",
        "# To keep track of the number of instances created from a class, we can use a class variable and a class method to update and access this count.\n",
        "\n",
        "class MyClass:\n",
        "    instance_count = 0  # Class variable to store instance count\n",
        "\n",
        "    def __init__(self):\n",
        "        MyClass.instance_count += 1  # Increment count on every instance creation\n",
        "\n",
        "    @classmethod\n",
        "    def get_instance_count(cls):\n",
        "        return cls.instance_count  # Return the count of instances created\n",
        "\n",
        "# Example Usage\n",
        "obj1 = MyClass()\n",
        "obj2 = MyClass()\n",
        "obj3 = MyClass()\n",
        "\n",
        "print(MyClass.get_instance_count())"
      ],
      "metadata": {
        "id": "E0S7C6vcJHMg"
      },
      "execution_count": null,
      "outputs": []
    },
    {
      "cell_type": "code",
      "source": [
        "# Q15. Implement a static method in a class that checks if a given year is a leap year.\n",
        "\n",
        "# A static method can be used for operations that do not require access to the instance or class-specific data. It can be called on the class itself.\n",
        "\n",
        "class Year:\n",
        "    @staticmethod\n",
        "    def is_leap_year(year):\n",
        "        # Leap year is divisible by 4, but not divisible by 100 unless also divisible by 400\n",
        "        if (year % 4 == 0 and year % 100 != 0) or (year % 400 == 0):\n",
        "            return True\n",
        "        return False\n",
        "\n",
        "# Example Usage\n",
        "year = 2024\n",
        "print(Year.is_leap_year(year))  # Output: True\n",
        "\n",
        "year = 2023\n",
        "print(Year.is_leap_year(year))  # Output: False"
      ],
      "metadata": {
        "id": "fPrnn7QbJTCE"
      },
      "execution_count": null,
      "outputs": []
    }
  ]
}